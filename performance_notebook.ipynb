{
 "cells": [
  {
   "cell_type": "code",
   "execution_count": 3,
   "metadata": {},
   "outputs": [],
   "source": [
    "# Variables\n",
    "binary_src = \"../csv_to_json_rust_performance_test/target/release/rust_csv_to_json\"\n",
    "csv_min = \"../data/chicago_crimes_2024_min.csv\"\n",
    "csv_200k_records = \"../data/chicago_crimes_2020_to_2024.csv\"\n",
    "csv_2mil_records = \"../data/chicago_crimes_2015_to_2024.csv\"\n",
    "\n",
    "\n",
    "def edit_test_result(title, result):\n",
    "    parts = result[0].split(\" \", 1)\n",
    "    parts[0] = title\n",
    "    return \"\".join(parts)\n"
   ]
  },
  {
   "cell_type": "code",
   "execution_count": 2,
   "metadata": {},
   "outputs": [],
   "source": [
    "!chmod +x {binary_src}   "
   ]
  },
  {
   "cell_type": "code",
   "execution_count": 3,
   "metadata": {},
   "outputs": [
    {
     "name": "stdout",
     "output_type": "stream",
     "text": [
      "../csv_to_json_rust_performance_test/target/release/rust_csv_to_json   0.01s user 0.02s system 99% cpu 0.032 total\n"
     ]
    }
   ],
   "source": [
    "#test\n",
    "!time {binary_src} {csv_min}"
   ]
  },
  {
   "cell_type": "markdown",
   "metadata": {},
   "source": [
    "# Tests"
   ]
  },
  {
   "cell_type": "markdown",
   "metadata": {},
   "source": [
    "## vec_mem"
   ]
  },
  {
   "cell_type": "code",
   "execution_count": null,
   "metadata": {},
   "outputs": [],
   "source": [
    "!chmod +x {binary_src}\n",
    "output_1 = !time {binary_src} {csv_200k_records}\n",
    "output_2 = !time {binary_src} {csv_2mil_records}\n",
    "print(edit_test_result(\"vec_mem (200k) ->\", output_1))\n",
    "# print(edit_test_result(\"vec_mem (2Mil) ->\", output_2))\n"
   ]
  },
  {
   "cell_type": "markdown",
   "metadata": {},
   "source": [
    "-> The output for vec_mem with just 200k records takes too long. Over 10 Mins and counting... Invalid \n",
    "\n",
    "-> Most likely due to the fact that it tries to store all of the records in RAM"
   ]
  },
  {
   "cell_type": "markdown",
   "metadata": {},
   "source": [
    "## no_vec_mem_no_nested_loops"
   ]
  },
  {
   "cell_type": "code",
   "execution_count": 22,
   "metadata": {},
   "outputs": [
    {
     "name": "stdout",
     "output_type": "stream",
     "text": [
      "(200k) ->  10.64s user 0.70s system 98% cpu 11.479 total\n",
      "(2Mil) ->  22.70s user 1.90s system 98% cpu 25.054 total\n"
     ]
    }
   ],
   "source": [
    "# !chmod +x {binary_src}\n",
    "output_1 = !time {binary_src} {csv_200k_records}\n",
    "print(edit_test_result(\"(200k) ->\", output_1))\n",
    "output_2 = !time {binary_src} {csv_2mil_records}\n",
    "print(edit_test_result(\"(2Mil) ->\", output_2))"
   ]
  },
  {
   "cell_type": "markdown",
   "metadata": {},
   "source": [
    "## parallel_solution\n",
    " - Manual thread setting"
   ]
  },
  {
   "cell_type": "code",
   "execution_count": 29,
   "metadata": {},
   "outputs": [
    {
     "name": "stdout",
     "output_type": "stream",
     "text": [
      "(200k)-> 1  11.24s user 6.13s system 98% cpu 17.560 total\n",
      "(200k)-> 6  14.34s user 20.75s system 284% cpu 12.353 total\n",
      "(200k)-> 12  18.89s user 52.34s system 487% cpu 14.624 total\n"
     ]
    }
   ],
   "source": [
    "# Args -> csv destination, number of threads\n",
    "!chmod +x {binary_src}\n",
    "output = !time {binary_src} {csv_200k_records} 1\n",
    "print(edit_test_result(\"(200k)->\", output))\n",
    "output = !time {binary_src} {csv_200k_records} 6\n",
    "print(edit_test_result(\"(200k)->\", output))\n",
    "output = !time {binary_src} {csv_200k_records} 12\n",
    "print(edit_test_result(\"(200k)->\", output))"
   ]
  },
  {
   "cell_type": "code",
   "execution_count": 30,
   "metadata": {},
   "outputs": [
    {
     "name": "stdout",
     "output_type": "stream",
     "text": [
      "(2Mil)-> 1  24.85s user 12.74s system 99% cpu 37.921 total\n",
      "(2Mil)-> 6  29.54s user 44.25s system 286% cpu 25.711 total\n",
      "(2Mil)-> 12  41.00s user 111.58s system 482% cpu 31.600 total\n"
     ]
    }
   ],
   "source": [
    "# Args -> csv destination, number of threads\n",
    "!chmod +x {binary_src}\n",
    "output = !time {binary_src} {csv_2mil_records} 1\n",
    "print(edit_test_result(\"(2Mil)->\", output))\n",
    "output = !time {binary_src} {csv_2mil_records} 6\n",
    "print(edit_test_result(\"(2Mil)->\", output))\n",
    "output = !time {binary_src} {csv_2mil_records} 12\n",
    "print(edit_test_result(\"(2Mil)->\", output))\n"
   ]
  },
  {
   "cell_type": "markdown",
   "metadata": {},
   "source": [
    "## parallel_channels"
   ]
  },
  {
   "cell_type": "code",
   "execution_count": 31,
   "metadata": {},
   "outputs": [
    {
     "name": "stdout",
     "output_type": "stream",
     "text": [
      "(200k)-> 1  24.53s user 5.66s system 177% cpu 17.000 total\n",
      "(200k)-> 6  18.27s user 16.73s system 323% cpu 10.802 total\n",
      "(200k)-> 12  21.80s user 26.40s system 321% cpu 14.970 total\n"
     ]
    }
   ],
   "source": [
    "# Args -> csv destination, number of threads\n",
    "!chmod +x {binary_src}\n",
    "output = !time {binary_src} {csv_200k_records} 1\n",
    "print(edit_test_result(\"(200k)->\", output))\n",
    "output = !time {binary_src} {csv_200k_records} 6\n",
    "print(edit_test_result(\"(200k)->\", output))\n",
    "output = !time {binary_src} {csv_200k_records} 12\n",
    "print(edit_test_result(\"(200k)->\", output))"
   ]
  },
  {
   "cell_type": "code",
   "execution_count": 32,
   "metadata": {},
   "outputs": [
    {
     "name": "stdout",
     "output_type": "stream",
     "text": [
      "(2Mil)-> 1  54.71s user 11.94s system 179% cpu 37.168 total\n",
      "(2Mil)-> 6  37.72s user 36.80s system 318% cpu 23.425 total\n",
      "(2Mil)-> 12  46.43s user 57.18s system 323% cpu 32.074 total\n"
     ]
    }
   ],
   "source": [
    "# Args -> csv destination, number of threads\n",
    "!chmod +x {binary_src}\n",
    "output = !time {binary_src} {csv_2mil_records} 1\n",
    "print(edit_test_result(\"(2Mil)->\", output))\n",
    "output = !time {binary_src} {csv_2mil_records} 6\n",
    "print(edit_test_result(\"(2Mil)->\", output))\n",
    "output = !time {binary_src} {csv_2mil_records} 12\n",
    "print(edit_test_result(\"(2Mil)->\", output))\n"
   ]
  },
  {
   "cell_type": "markdown",
   "metadata": {},
   "source": [
    "## rayon_solution"
   ]
  },
  {
   "cell_type": "code",
   "execution_count": 34,
   "metadata": {},
   "outputs": [
    {
     "name": "stdout",
     "output_type": "stream",
     "text": [
      "(200k)->  19.00s user 49.85s system 468% cpu 14.684 total\n",
      "(200k)->  18.87s user 52.34s system 498% cpu 14.289 total\n",
      "(200k)->  19.08s user 52.11s system 491% cpu 14.498 total\n"
     ]
    }
   ],
   "source": [
    "# Args -> csv destination\n",
    "!chmod +x {binary_src}\n",
    "output = !time {binary_src} {csv_200k_records} \n",
    "print(edit_test_result(\"(200k)->\", output))\n",
    "output = !time {binary_src} {csv_200k_records} \n",
    "print(edit_test_result(\"(200k)->\", output))\n",
    "output = !time {binary_src} {csv_200k_records} \n",
    "print(edit_test_result(\"(200k)->\", output))"
   ]
  },
  {
   "cell_type": "code",
   "execution_count": 4,
   "metadata": {},
   "outputs": [
    {
     "name": "stdout",
     "output_type": "stream",
     "text": [
      "(2Mil)->  41.40s user 113.20s system 500% cpu 30.904 total\n",
      "(2Mil)->  41.16s user 118.22s system 510% cpu 31.218 total\n",
      "(2Mil)->  40.90s user 118.10s system 511% cpu 31.076 total\n"
     ]
    }
   ],
   "source": [
    "# Args -> csv destination\n",
    "!chmod +x {binary_src}\n",
    "output = !time {binary_src} {csv_2mil_records} \n",
    "print(edit_test_result(\"(2Mil)->\", output))\n",
    "output = !time {binary_src} {csv_2mil_records} \n",
    "print(edit_test_result(\"(2Mil)->\", output))\n",
    "output = !time {binary_src} {csv_2mil_records} \n",
    "print(edit_test_result(\"(2Mil)->\", output))\n"
   ]
  },
  {
   "cell_type": "markdown",
   "metadata": {},
   "source": [
    "## rayon_batching"
   ]
  },
  {
   "cell_type": "code",
   "execution_count": 6,
   "metadata": {},
   "outputs": [
    {
     "name": "stdout",
     "output_type": "stream",
     "text": [
      "(200k)-> 100  17.88s user 52.91s system 516% cpu 13.719 total\n",
      "(200k)-> 500  17.87s user 54.03s system 519% cpu 13.833 total\n",
      "(200k)-> 1000  17.69s user 53.59s system 519% cpu 13.721 total\n"
     ]
    }
   ],
   "source": [
    "# Args -> csv destination, batches\n",
    "!chmod +x {binary_src}\n",
    "output = !time {binary_src} {csv_200k_records} 100\n",
    "print(edit_test_result(\"(200k)->\", output))\n",
    "output = !time {binary_src} {csv_200k_records} 500\n",
    "print(edit_test_result(\"(200k)->\", output))\n",
    "output = !time {binary_src} {csv_200k_records} 1000\n",
    "print(edit_test_result(\"(200k)->\", output))"
   ]
  },
  {
   "cell_type": "code",
   "execution_count": 7,
   "metadata": {},
   "outputs": [
    {
     "name": "stdout",
     "output_type": "stream",
     "text": [
      "(2Mil)-> 500  38.16s user 118.95s system 522% cpu 30.071 total\n",
      "(2Mil)-> 1000  38.04s user 117.41s system 514% cpu 30.221 total\n",
      "(2Mil)-> 1500  39.45s user 111.68s system 478% cpu 31.617 total\n"
     ]
    }
   ],
   "source": [
    "# Args -> csv destination, batches\n",
    "!chmod +x {binary_src}\n",
    "output = !time {binary_src} {csv_2mil_records} 500\n",
    "print(edit_test_result(\"(2Mil)->\", output))\n",
    "output = !time {binary_src} {csv_2mil_records} 1000\n",
    "print(edit_test_result(\"(2Mil)->\", output))\n",
    "output = !time {binary_src} {csv_2mil_records} 1500\n",
    "print(edit_test_result(\"(2Mil)->\", output))"
   ]
  },
  {
   "cell_type": "markdown",
   "metadata": {},
   "source": [
    "## rayon_crossbeam"
   ]
  },
  {
   "cell_type": "code",
   "execution_count": 11,
   "metadata": {},
   "outputs": [
    {
     "name": "stdout",
     "output_type": "stream",
     "text": [
      "(200k)-> 100 30  13.88s user 1.98s system 208% cpu 7.617 total\n",
      "(200k)-> 100 50  14.08s user 1.93s system 208% cpu 7.666 total\n",
      "(200k)-> 100 100  14.40s user 1.92s system 207% cpu 7.855 total\n"
     ]
    }
   ],
   "source": [
    "# Args -> csv destination, batches, bound size\n",
    "!chmod +x {binary_src}\n",
    "output = !time {binary_src} {csv_200k_records} 100 30\n",
    "print(edit_test_result(\"(200k)->\", output))\n",
    "output = !time {binary_src} {csv_200k_records} 100 50\n",
    "print(edit_test_result(\"(200k)->\", output))\n",
    "output = !time {binary_src} {csv_200k_records} 100 100\n",
    "print(edit_test_result(\"(200k)->\", output))"
   ]
  },
  {
   "cell_type": "code",
   "execution_count": 14,
   "metadata": {},
   "outputs": [
    {
     "name": "stdout",
     "output_type": "stream",
     "text": [
      "(2Mil)-> 500 5  33.01s user 7.10s system 220% cpu 18.174 total\n",
      "(2Mil)-> 500 20  32.80s user 7.04s system 218% cpu 18.237 total\n",
      "(2Mil)-> 500 50  32.51s user 6.86s system 218% cpu 18.028 total\n"
     ]
    }
   ],
   "source": [
    "# Args -> csv destination, batches, bound size\n",
    "!chmod +x {binary_src}\n",
    "output = !time {binary_src} {csv_2mil_records} 500 5\n",
    "print(edit_test_result(\"(2Mil)->\", output))\n",
    "output = !time {binary_src} {csv_2mil_records} 500 20\n",
    "print(edit_test_result(\"(2Mil)->\", output))\n",
    "output = !time {binary_src} {csv_2mil_records} 500 50\n",
    "print(edit_test_result(\"(2Mil)->\", output))"
   ]
  },
  {
   "cell_type": "markdown",
   "metadata": {},
   "source": [
    "## no_vec_mem"
   ]
  },
  {
   "cell_type": "code",
   "execution_count": 18,
   "metadata": {},
   "outputs": [
    {
     "name": "stdout",
     "output_type": "stream",
     "text": [
      "(200k)->  7.42s user 0.72s system 99% cpu 8.150 total\n",
      "(200k)->  7.37s user 0.99s system 98% cpu 8.474 total\n",
      "(200k)->  7.45s user 0.89s system 98% cpu 8.477 total\n"
     ]
    }
   ],
   "source": [
    "# Args -> csv destination\n",
    "!chmod +x {binary_src}\n",
    "output = !time {binary_src} {csv_200k_records} \n",
    "print(edit_test_result(\"(200k)->\", output))\n",
    "output = !time {binary_src} {csv_200k_records} \n",
    "print(edit_test_result(\"(200k)->\", output))\n",
    "output = !time {binary_src} {csv_200k_records} \n",
    "print(edit_test_result(\"(200k)->\", output))"
   ]
  },
  {
   "cell_type": "code",
   "execution_count": 19,
   "metadata": {},
   "outputs": [
    {
     "name": "stdout",
     "output_type": "stream",
     "text": [
      "(2Mil)->  17.36s user 1.82s system 98% cpu 19.504 total\n",
      "(2Mil)->  17.16s user 1.88s system 99% cpu 19.128 total\n",
      "(2Mil)->  16.97s user 2.03s system 98% cpu 19.205 total\n"
     ]
    }
   ],
   "source": [
    "# Args -> csv destination\n",
    "!chmod +x {binary_src}\n",
    "output = !time {binary_src} {csv_2mil_records} \n",
    "print(edit_test_result(\"(2Mil)->\", output))\n",
    "output = !time {binary_src} {csv_2mil_records} \n",
    "print(edit_test_result(\"(2Mil)->\", output))\n",
    "output = !time {binary_src} {csv_2mil_records}\n",
    "print(edit_test_result(\"(2Mil)->\", output))"
   ]
  },
  {
   "cell_type": "markdown",
   "metadata": {},
   "source": [
    "## parallel_file_batching"
   ]
  },
  {
   "cell_type": "code",
   "execution_count": 20,
   "metadata": {},
   "outputs": [
    {
     "name": "stdout",
     "output_type": "stream",
     "text": [
      "(200k)-> 100  13.71s user 3.61s system 390% cpu 4.440 total\n",
      "(200k)-> 500  13.42s user 2.39s system 410% cpu 3.848 total\n",
      "(200k)-> 1000  13.17s user 2.44s system 401% cpu 3.890 total\n",
      "(200k)-> 1500  13.04s user 2.57s system 419% cpu 3.725 total\n"
     ]
    }
   ],
   "source": [
    "# Args -> csv destination, batching\n",
    "!chmod +x {binary_src}\n",
    "output = !time {binary_src} {csv_200k_records} 100\n",
    "print(edit_test_result(\"(200k)->\", output))\n",
    "output = !time {binary_src} {csv_200k_records} 500\n",
    "print(edit_test_result(\"(200k)->\", output))\n",
    "output = !time {binary_src} {csv_200k_records} 1000\n",
    "print(edit_test_result(\"(200k)->\", output))\n",
    "output = !time {binary_src} {csv_200k_records} 1500\n",
    "print(edit_test_result(\"(200k)->\", output))"
   ]
  },
  {
   "cell_type": "code",
   "execution_count": 21,
   "metadata": {},
   "outputs": [
    {
     "name": "stdout",
     "output_type": "stream",
     "text": [
      "(2Mil)-> 100  29.85s user 7.25s system 405% cpu 9.147 total\n",
      "(2Mil)-> 500  28.88s user 5.44s system 410% cpu 8.358 total\n",
      "(2Mil)-> 1000  28.65s user 5.34s system 375% cpu 9.058 total\n",
      "(2Mil)-> 2000  28.66s user 5.23s system 411% cpu 8.236 total\n",
      "(2Mil)-> 5000  28.53s user 5.15s system 410% cpu 8.213 total\n"
     ]
    }
   ],
   "source": [
    "# Args -> csv destination, batching\n",
    "!chmod +x {binary_src}\n",
    "output = !time {binary_src} {csv_2mil_records} 100\n",
    "print(edit_test_result(\"(2Mil)->\", output))\n",
    "output = !time {binary_src} {csv_2mil_records} 500\n",
    "print(edit_test_result(\"(2Mil)->\", output))\n",
    "output = !time {binary_src} {csv_2mil_records} 1000\n",
    "print(edit_test_result(\"(2Mil)->\", output))\n",
    "output = !time {binary_src} {csv_2mil_records} 2000\n",
    "print(edit_test_result(\"(2Mil)->\", output))\n",
    "output = !time {binary_src} {csv_2mil_records} 5000\n",
    "print(edit_test_result(\"(2Mil)->\", output))"
   ]
  },
  {
   "cell_type": "code",
   "execution_count": null,
   "metadata": {},
   "outputs": [],
   "source": []
  }
 ],
 "metadata": {
  "kernelspec": {
   "display_name": "Python 3 (ipykernel)",
   "language": "python",
   "name": "python3"
  },
  "language_info": {
   "codemirror_mode": {
    "name": "ipython",
    "version": 3
   },
   "file_extension": ".py",
   "mimetype": "text/x-python",
   "name": "python",
   "nbconvert_exporter": "python",
   "pygments_lexer": "ipython3",
   "version": "3.13.0"
  }
 },
 "nbformat": 4,
 "nbformat_minor": 4
}
